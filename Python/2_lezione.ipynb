{
 "cells": [
  {
   "cell_type": "code",
   "execution_count": 4,
   "metadata": {},
   "outputs": [
    {
     "data": {
      "text/plain": [
       "True"
      ]
     },
     "execution_count": 4,
     "metadata": {},
     "output_type": "execute_result"
    }
   ],
   "source": [
    "car = 'bmw'\n",
    "car == 'bmw'"
   ]
  },
  {
   "cell_type": "code",
   "execution_count": 5,
   "metadata": {},
   "outputs": [
    {
     "data": {
      "text/plain": [
       "False"
      ]
     },
     "execution_count": 5,
     "metadata": {},
     "output_type": "execute_result"
    }
   ],
   "source": [
    "5 == '5'"
   ]
  },
  {
   "cell_type": "code",
   "execution_count": 6,
   "metadata": {},
   "outputs": [
    {
     "data": {
      "text/plain": [
       "True"
      ]
     },
     "execution_count": 6,
     "metadata": {},
     "output_type": "execute_result"
    }
   ],
   "source": [
    "# il metodo lower non modifica car\n",
    "# crea una nuova stringa\n",
    "car = 'Audi'\n",
    "car.lower() == 'audi'"
   ]
  },
  {
   "cell_type": "code",
   "execution_count": 8,
   "metadata": {},
   "outputs": [
    {
     "data": {
      "text/plain": [
       "False"
      ]
     },
     "execution_count": 8,
     "metadata": {},
     "output_type": "execute_result"
    }
   ],
   "source": [
    "frutto1 = 'mela'\n",
    "frutto2 = 'pera'\n",
    "frutto1 == 'mela' and frutto2 == 'ananas'"
   ]
  },
  {
   "cell_type": "code",
   "execution_count": 9,
   "metadata": {},
   "outputs": [
    {
     "data": {
      "text/plain": [
       "True"
      ]
     },
     "execution_count": 9,
     "metadata": {},
     "output_type": "execute_result"
    }
   ],
   "source": [
    "frutto1 = 'mela'\n",
    "frutto2 = 'pera'\n",
    "frutto1 == 'mela' or frutto2 == 'ananas'"
   ]
  },
  {
   "cell_type": "code",
   "execution_count": 18,
   "metadata": {},
   "outputs": [
    {
     "data": {
      "text/plain": [
       "True"
      ]
     },
     "execution_count": 18,
     "metadata": {},
     "output_type": "execute_result"
    }
   ],
   "source": [
    "frutto1 = 'mela'\n",
    "frutto2 = 'pera'\n",
    "not frutto1 == frutto2"
   ]
  },
  {
   "cell_type": "code",
   "execution_count": 7,
   "metadata": {},
   "outputs": [
    {
     "name": "stdout",
     "output_type": "stream",
     "text": [
      "Risposta errata\n"
     ]
    }
   ],
   "source": [
    "answer = 17\n",
    "if answer != 42:\n",
    "    print('Risposta errata')"
   ]
  },
  {
   "cell_type": "code",
   "execution_count": null,
   "metadata": {},
   "outputs": [],
   "source": [
    "pioggia = True\n",
    "if pioggia:\n",
    "    print('Prendo l\\'ombrello') # lo \\ è usato per stampare normalmente i caratteri speciali"
   ]
  },
  {
   "cell_type": "code",
   "execution_count": null,
   "metadata": {},
   "outputs": [],
   "source": [
    "op = '+'\n",
    "if op in '+-*/':\n",
    "    print('Correct op')"
   ]
  },
  {
   "cell_type": "code",
   "execution_count": null,
   "metadata": {},
   "outputs": [],
   "source": [
    "eta = 21\n",
    "if eta >= 21:\n",
    "    print('Adulto')\n",
    "else:\n",
    "    print('Minorenne')"
   ]
  },
  {
   "cell_type": "code",
   "execution_count": 23,
   "metadata": {},
   "outputs": [
    {
     "name": "stdout",
     "output_type": "stream",
     "text": [
      "9 di denari\n"
     ]
    }
   ],
   "source": [
    "seme = 'd'\n",
    "num = 9\n",
    "res = str(num)\n",
    "if seme == 'd':\n",
    "    res += ' di denari'\n",
    "elif seme == 'f':\n",
    "    res += ' di fiori'\n",
    "elif seme == 'c':\n",
    "    res += ' di cuori'\n",
    "else:\n",
    "    res += ' di picche'\n",
    "print(res)"
   ]
  },
  {
   "cell_type": "code",
   "execution_count": 25,
   "metadata": {},
   "outputs": [
    {
     "name": "stdout",
     "output_type": "stream",
     "text": [
      "0%\n"
     ]
    }
   ],
   "source": [
    "eta = 40\n",
    "sconto = '0%'\n",
    "if eta < 6:\n",
    "    sconto = '50%'\n",
    "elif eta < 12:\n",
    "    sconto = '25%'\n",
    "elif eta >= 65:\n",
    "    sconto = '10%'\n",
    "print(sconto)"
   ]
  },
  {
   "cell_type": "code",
   "execution_count": null,
   "metadata": {},
   "outputs": [],
   "source": [
    "giorno = 20\n",
    "mese = 2\n",
    "anno = 1991\n",
    "if giorno < 10:\n",
    "    giorno = '0' + str(giorno)\n",
    "if mese < 10:\n",
    "    mese = '0' + str(mese)\n",
    "str(giorno) + '/' + str(mese) + '/' + str(anno)"
   ]
  }
 ],
 "metadata": {
  "interpreter": {
   "hash": "916dbcbb3f70747c44a77c7bcd40155683ae19c65e1c03b4aa3499c5328201f1"
  },
  "kernelspec": {
   "display_name": "Python 3.8.10 64-bit",
   "language": "python",
   "name": "python3"
  },
  "language_info": {
   "codemirror_mode": {
    "name": "ipython",
    "version": 3
   },
   "file_extension": ".py",
   "mimetype": "text/x-python",
   "name": "python",
   "nbconvert_exporter": "python",
   "pygments_lexer": "ipython3",
   "version": "3.8.10"
  },
  "orig_nbformat": 4
 },
 "nbformat": 4,
 "nbformat_minor": 2
}
